{
 "cells": [
  {
   "cell_type": "markdown",
   "metadata": {},
   "source": [
    "## Limitations ##"
   ]
  },
  {
   "cell_type": "markdown",
   "metadata": {},
   "source": [
    "Before attempting the problem, I want to list down the limitations of this problem and how they affect the analysis:\n",
    "1. The fields in the data do not have any description. All the naked eye can see is the presence of 7 continuous variables and 2 categorical variables. With only this information about the data and no well-defined problem statement, it is not possible to discard any variable using the doamin knowledge. Only some statistical feature selection methods can be implemented at later stage to optimize our model.\n",
    "\n",
    "2. There are only 500 observations in our training data, and that might mean that our model will not have enough data to 'learn'.\n",
    "\n",
    "3. Also, since there is no data description given, I have built by model with accuracy as my sole focus."
   ]
  },
  {
   "cell_type": "markdown",
   "metadata": {},
   "source": [
    "## Data Exploration ##"
   ]
  },
  {
   "cell_type": "code",
   "execution_count": 15,
   "metadata": {},
   "outputs": [],
   "source": [
    "import pandas as pd\n",
    "import numpy as np\n",
    "from sklearn.model_selection import train_test_split \n",
    "from sklearn.linear_model import LinearRegression\n",
    "from sklearn import metrics\n",
    "from sklearn.feature_selection import RFE\n",
    "import seaborn as sns\n",
    "import statsmodels.api as sm"
   ]
  },
  {
   "cell_type": "code",
   "execution_count": 2,
   "metadata": {},
   "outputs": [],
   "source": [
    "df_intern = pd.read_csv('intern_data.csv')"
   ]
  },
  {
   "cell_type": "code",
   "execution_count": 3,
   "metadata": {},
   "outputs": [
    {
     "data": {
      "text/html": [
       "<div>\n",
       "<style scoped>\n",
       "    .dataframe tbody tr th:only-of-type {\n",
       "        vertical-align: middle;\n",
       "    }\n",
       "\n",
       "    .dataframe tbody tr th {\n",
       "        vertical-align: top;\n",
       "    }\n",
       "\n",
       "    .dataframe thead th {\n",
       "        text-align: right;\n",
       "    }\n",
       "</style>\n",
       "<table border=\"1\" class=\"dataframe\">\n",
       "  <thead>\n",
       "    <tr style=\"text-align: right;\">\n",
       "      <th></th>\n",
       "      <th>Unnamed: 0</th>\n",
       "      <th>a</th>\n",
       "      <th>b</th>\n",
       "      <th>c</th>\n",
       "      <th>d</th>\n",
       "      <th>e</th>\n",
       "      <th>f</th>\n",
       "      <th>g</th>\n",
       "      <th>h</th>\n",
       "      <th>y</th>\n",
       "    </tr>\n",
       "  </thead>\n",
       "  <tbody>\n",
       "    <tr>\n",
       "      <th>0</th>\n",
       "      <td>7</td>\n",
       "      <td>0.951786</td>\n",
       "      <td>0.669570</td>\n",
       "      <td>green</td>\n",
       "      <td>0.170130</td>\n",
       "      <td>0.623469</td>\n",
       "      <td>0.925886</td>\n",
       "      <td>0.812685</td>\n",
       "      <td>white</td>\n",
       "      <td>3.707514</td>\n",
       "    </tr>\n",
       "    <tr>\n",
       "      <th>1</th>\n",
       "      <td>43</td>\n",
       "      <td>0.510447</td>\n",
       "      <td>0.922627</td>\n",
       "      <td>red</td>\n",
       "      <td>0.087899</td>\n",
       "      <td>0.025415</td>\n",
       "      <td>0.698444</td>\n",
       "      <td>0.658545</td>\n",
       "      <td>white</td>\n",
       "      <td>2.689243</td>\n",
       "    </tr>\n",
       "    <tr>\n",
       "      <th>2</th>\n",
       "      <td>47</td>\n",
       "      <td>0.294838</td>\n",
       "      <td>0.351081</td>\n",
       "      <td>yellow</td>\n",
       "      <td>0.710892</td>\n",
       "      <td>0.699661</td>\n",
       "      <td>0.545722</td>\n",
       "      <td>0.836863</td>\n",
       "      <td>black</td>\n",
       "      <td>2.886508</td>\n",
       "    </tr>\n",
       "    <tr>\n",
       "      <th>3</th>\n",
       "      <td>53</td>\n",
       "      <td>0.798645</td>\n",
       "      <td>0.572042</td>\n",
       "      <td>green</td>\n",
       "      <td>0.026137</td>\n",
       "      <td>0.609730</td>\n",
       "      <td>0.488668</td>\n",
       "      <td>0.342675</td>\n",
       "      <td>black</td>\n",
       "      <td>2.478168</td>\n",
       "    </tr>\n",
       "    <tr>\n",
       "      <th>4</th>\n",
       "      <td>54</td>\n",
       "      <td>0.689666</td>\n",
       "      <td>0.395323</td>\n",
       "      <td>red</td>\n",
       "      <td>0.172448</td>\n",
       "      <td>0.736433</td>\n",
       "      <td>0.708408</td>\n",
       "      <td>0.695521</td>\n",
       "      <td>white</td>\n",
       "      <td>3.182666</td>\n",
       "    </tr>\n",
       "  </tbody>\n",
       "</table>\n",
       "</div>"
      ],
      "text/plain": [
       "   Unnamed: 0         a         b       c         d         e         f  \\\n",
       "0           7  0.951786  0.669570   green  0.170130  0.623469  0.925886   \n",
       "1          43  0.510447  0.922627     red  0.087899  0.025415  0.698444   \n",
       "2          47  0.294838  0.351081  yellow  0.710892  0.699661  0.545722   \n",
       "3          53  0.798645  0.572042   green  0.026137  0.609730  0.488668   \n",
       "4          54  0.689666  0.395323     red  0.172448  0.736433  0.708408   \n",
       "\n",
       "          g      h         y  \n",
       "0  0.812685  white  3.707514  \n",
       "1  0.658545  white  2.689243  \n",
       "2  0.836863  black  2.886508  \n",
       "3  0.342675  black  2.478168  \n",
       "4  0.695521  white  3.182666  "
      ]
     },
     "execution_count": 3,
     "metadata": {},
     "output_type": "execute_result"
    }
   ],
   "source": [
    "df_intern.head()"
   ]
  },
  {
   "cell_type": "markdown",
   "metadata": {},
   "source": [
    "The question asks us to build a model using on a-h variables, so we can get rid of the unnamed column at the start."
   ]
  },
  {
   "cell_type": "code",
   "execution_count": 4,
   "metadata": {},
   "outputs": [],
   "source": [
    "del df_intern['Unnamed: 0']"
   ]
  },
  {
   "cell_type": "markdown",
   "metadata": {},
   "source": [
    "Apart from the removal of this column, everything else in the data looks good to me. Naturally, not all of these features will be used for actual regression, and thus we will have to perform feature selection to obtain the best predictors. However, apart from this, everything else about the data looks clean, so I am assuming that the goal for this exercise is not to perform data cleaning (which is the task in Data Science process that takes the maximum amount of time).\n",
    "\n",
    "Let us have a look at the data types for all the fields."
   ]
  },
  {
   "cell_type": "code",
   "execution_count": 5,
   "metadata": {},
   "outputs": [
    {
     "data": {
      "text/plain": [
       "a    float64\n",
       "b    float64\n",
       "c     object\n",
       "d    float64\n",
       "e    float64\n",
       "f    float64\n",
       "g    float64\n",
       "h     object\n",
       "y    float64\n",
       "dtype: object"
      ]
     },
     "execution_count": 5,
     "metadata": {},
     "output_type": "execute_result"
    }
   ],
   "source": [
    "df_intern.dtypes"
   ]
  },
  {
   "cell_type": "markdown",
   "metadata": {},
   "source": [
    "Now let us look at the size of our dataset."
   ]
  },
  {
   "cell_type": "code",
   "execution_count": 6,
   "metadata": {},
   "outputs": [
    {
     "data": {
      "text/plain": [
       "(500, 9)"
      ]
     },
     "execution_count": 6,
     "metadata": {},
     "output_type": "execute_result"
    }
   ],
   "source": [
    "df_intern.shape"
   ]
  },
  {
   "cell_type": "markdown",
   "metadata": {},
   "source": [
    "Finally, let us run some descriptive analysis for our data."
   ]
  },
  {
   "cell_type": "code",
   "execution_count": 7,
   "metadata": {},
   "outputs": [
    {
     "data": {
      "text/html": [
       "<div>\n",
       "<style scoped>\n",
       "    .dataframe tbody tr th:only-of-type {\n",
       "        vertical-align: middle;\n",
       "    }\n",
       "\n",
       "    .dataframe tbody tr th {\n",
       "        vertical-align: top;\n",
       "    }\n",
       "\n",
       "    .dataframe thead th {\n",
       "        text-align: right;\n",
       "    }\n",
       "</style>\n",
       "<table border=\"1\" class=\"dataframe\">\n",
       "  <thead>\n",
       "    <tr style=\"text-align: right;\">\n",
       "      <th></th>\n",
       "      <th>a</th>\n",
       "      <th>b</th>\n",
       "      <th>d</th>\n",
       "      <th>e</th>\n",
       "      <th>f</th>\n",
       "      <th>g</th>\n",
       "      <th>y</th>\n",
       "    </tr>\n",
       "  </thead>\n",
       "  <tbody>\n",
       "    <tr>\n",
       "      <th>count</th>\n",
       "      <td>500.000000</td>\n",
       "      <td>500.000000</td>\n",
       "      <td>500.000000</td>\n",
       "      <td>500.000000</td>\n",
       "      <td>500.000000</td>\n",
       "      <td>500.000000</td>\n",
       "      <td>500.000000</td>\n",
       "    </tr>\n",
       "    <tr>\n",
       "      <th>mean</th>\n",
       "      <td>0.497413</td>\n",
       "      <td>0.505397</td>\n",
       "      <td>0.501722</td>\n",
       "      <td>0.501899</td>\n",
       "      <td>0.526562</td>\n",
       "      <td>0.508442</td>\n",
       "      <td>2.682803</td>\n",
       "    </tr>\n",
       "    <tr>\n",
       "      <th>std</th>\n",
       "      <td>0.292947</td>\n",
       "      <td>0.292450</td>\n",
       "      <td>0.284623</td>\n",
       "      <td>0.272019</td>\n",
       "      <td>0.292175</td>\n",
       "      <td>0.284332</td>\n",
       "      <td>0.592533</td>\n",
       "    </tr>\n",
       "    <tr>\n",
       "      <th>min</th>\n",
       "      <td>0.002801</td>\n",
       "      <td>0.000369</td>\n",
       "      <td>0.000592</td>\n",
       "      <td>0.002387</td>\n",
       "      <td>0.001327</td>\n",
       "      <td>0.005644</td>\n",
       "      <td>0.981376</td>\n",
       "    </tr>\n",
       "    <tr>\n",
       "      <th>25%</th>\n",
       "      <td>0.253897</td>\n",
       "      <td>0.256446</td>\n",
       "      <td>0.252244</td>\n",
       "      <td>0.270069</td>\n",
       "      <td>0.262523</td>\n",
       "      <td>0.263525</td>\n",
       "      <td>2.300795</td>\n",
       "    </tr>\n",
       "    <tr>\n",
       "      <th>50%</th>\n",
       "      <td>0.510420</td>\n",
       "      <td>0.514069</td>\n",
       "      <td>0.496800</td>\n",
       "      <td>0.515185</td>\n",
       "      <td>0.506412</td>\n",
       "      <td>0.526403</td>\n",
       "      <td>2.726900</td>\n",
       "    </tr>\n",
       "    <tr>\n",
       "      <th>75%</th>\n",
       "      <td>0.760192</td>\n",
       "      <td>0.766578</td>\n",
       "      <td>0.735650</td>\n",
       "      <td>0.732240</td>\n",
       "      <td>0.790898</td>\n",
       "      <td>0.742125</td>\n",
       "      <td>3.155562</td>\n",
       "    </tr>\n",
       "    <tr>\n",
       "      <th>max</th>\n",
       "      <td>0.999690</td>\n",
       "      <td>0.997025</td>\n",
       "      <td>0.998282</td>\n",
       "      <td>0.998994</td>\n",
       "      <td>0.999271</td>\n",
       "      <td>0.998156</td>\n",
       "      <td>3.980509</td>\n",
       "    </tr>\n",
       "  </tbody>\n",
       "</table>\n",
       "</div>"
      ],
      "text/plain": [
       "                a           b           d           e           f           g  \\\n",
       "count  500.000000  500.000000  500.000000  500.000000  500.000000  500.000000   \n",
       "mean     0.497413    0.505397    0.501722    0.501899    0.526562    0.508442   \n",
       "std      0.292947    0.292450    0.284623    0.272019    0.292175    0.284332   \n",
       "min      0.002801    0.000369    0.000592    0.002387    0.001327    0.005644   \n",
       "25%      0.253897    0.256446    0.252244    0.270069    0.262523    0.263525   \n",
       "50%      0.510420    0.514069    0.496800    0.515185    0.506412    0.526403   \n",
       "75%      0.760192    0.766578    0.735650    0.732240    0.790898    0.742125   \n",
       "max      0.999690    0.997025    0.998282    0.998994    0.999271    0.998156   \n",
       "\n",
       "                y  \n",
       "count  500.000000  \n",
       "mean     2.682803  \n",
       "std      0.592533  \n",
       "min      0.981376  \n",
       "25%      2.300795  \n",
       "50%      2.726900  \n",
       "75%      3.155562  \n",
       "max      3.980509  "
      ]
     },
     "execution_count": 7,
     "metadata": {},
     "output_type": "execute_result"
    }
   ],
   "source": [
    "df_intern.describe()"
   ]
  },
  {
   "cell_type": "code",
   "execution_count": 8,
   "metadata": {},
   "outputs": [
    {
     "name": "stdout",
     "output_type": "stream",
     "text": [
      "yellow    134\n",
      "green     124\n",
      "blue      123\n",
      "red       119\n",
      "Name: c, dtype: int64\n",
      "white    392\n",
      "black    108\n",
      "Name: h, dtype: int64\n"
     ]
    }
   ],
   "source": [
    "print(df_intern['c'].value_counts())\n",
    "print(df_intern['h'].value_counts())"
   ]
  },
  {
   "cell_type": "markdown",
   "metadata": {},
   "source": [
    "It is clear that the distribution of the 'c' variable classes is pretty event. However, in case of the 'h' variable, the counts are highly biased towards the white."
   ]
  },
  {
   "cell_type": "markdown",
   "metadata": {},
   "source": [
    "## Visualization of the correlation between the variables and their distributions ##"
   ]
  },
  {
   "cell_type": "markdown",
   "metadata": {},
   "source": [
    "Before we start building a linear regression model, there are several key assumptions that we need to take care of:\n",
    "1. Variables are normally distributed:\n",
    "Non-normally distributed variables (highly skewed variables or variables with substantial outliers) can distort relationships and significance tests.\n",
    "\n",
    "2. Linear relationship between the predictor and the response:\n",
    "Standard multiple regression can only accurately estimate the relationship between dependent and independent variables if the relationships are linear in nature. If the relationship between\n",
    "each of the predictors and the response is not linear, the results of the regression analysis will under-estimate the true relationship.\n",
    "\n",
    "3. Variables are measured without error:\n",
    "Effect sizes of other variables can be over-estimated if the covariate is not reliably measured, as the full effect of the covariate(s) would not be removed.\n",
    "\n",
    "4. Absence of homoscedasticity:\n",
    "Homoscedasticity means that the variance of errors is the same across all levels of the IV. It can lead to serious distortion of findings and seriously weaken the analysis."
   ]
  },
  {
   "cell_type": "code",
   "execution_count": 9,
   "metadata": {},
   "outputs": [
    {
     "data": {
      "text/plain": [
       "<matplotlib.axes._subplots.AxesSubplot at 0x25f137960f0>"
      ]
     },
     "execution_count": 9,
     "metadata": {},
     "output_type": "execute_result"
    },
    {
     "data": {
      "image/png": "[encoded data removed]",
      "text/plain": [
       "<Figure size 432x288 with 2 Axes>"
      ]
     },
     "metadata": {
      "needs_background": "light"
     },
     "output_type": "display_data"
    }
   ],
   "source": [
    "#Correlation heatmap\n",
    "sns.heatmap(df_intern.corr(), annot = True, vmin=-1, vmax=1, center= 0, cmap= 'coolwarm')"
   ]
  },
  {
   "cell_type": "markdown",
   "metadata": {},
   "source": [
    "The scatter plot above shows that there is a decent amount of correlation between the predictors (a-h) and the response variable (y), with the clear exception of variable a and d with y.\n",
    "\n",
    "One good thing is that there is no linear relationship of the predictors with each other. Presence of such a linear relationship will give incorrect results during regression."
   ]
  },
  {
   "cell_type": "code",
   "execution_count": 10,
   "metadata": {
    "scrolled": false
   },
   "outputs": [
    {
     "data": {
      "text/plain": [
       "array([[<matplotlib.axes._subplots.AxesSubplot object at 0x0000025F13AB5208>,\n",
       "        <matplotlib.axes._subplots.AxesSubplot object at 0x0000025F13BAFBE0>,\n",
       "        <matplotlib.axes._subplots.AxesSubplot object at 0x0000025F13BF01D0>],\n",
       "       [<matplotlib.axes._subplots.AxesSubplot object at 0x0000025F13C20780>,\n",
       "        <matplotlib.axes._subplots.AxesSubplot object at 0x0000025F13C51D30>,\n",
       "        <matplotlib.axes._subplots.AxesSubplot object at 0x0000025F13C90320>],\n",
       "       [<matplotlib.axes._subplots.AxesSubplot object at 0x0000025F13CC08D0>,\n",
       "        <matplotlib.axes._subplots.AxesSubplot object at 0x0000025F13CF3EB8>,\n",
       "        <matplotlib.axes._subplots.AxesSubplot object at 0x0000025F13CF3EF0>]],\n",
       "      dtype=object)"
      ]
     },
     "execution_count": 10,
     "metadata": {},
     "output_type": "execute_result"
    },
    {
     "data": {
      "image/png": "[encoded data removed]",
      "text/plain": [
       "<Figure size 432x288 with 9 Axes>"
      ]
     },
     "metadata": {
      "needs_background": "light"
     },
     "output_type": "display_data"
    }
   ],
   "source": [
    "df_intern.hist()"
   ]
  },
  {
   "cell_type": "markdown",
   "metadata": {},
   "source": [
    "The variables should be noramally distributed. We see that our vairables a-h are not really normally distributed, so this assumption of linear regression is disobeyed."
   ]
  },
  {
   "cell_type": "code",
   "execution_count": 11,
   "metadata": {},
   "outputs": [
    {
     "data": {
      "text/plain": [
       "<matplotlib.axes._subplots.AxesSubplot at 0x25f13ec2eb8>"
      ]
     },
     "execution_count": 11,
     "metadata": {},
     "output_type": "execute_result"
    },
    {
     "data": {
      "image/png": "[encoded data removed]",
      "text/plain": [
       "<Figure size 432x288 with 1 Axes>"
      ]
     },
     "metadata": {
      "needs_background": "light"
     },
     "output_type": "display_data"
    }
   ],
   "source": [
    "#Boxplots\n",
    "\n",
    "df_intern.boxplot(column=list('abdefg'))"
   ]
  },
  {
   "cell_type": "markdown",
   "metadata": {},
   "source": [
    "The boxplots show that the means of all the distributions are fairly similar. In fact, even the 1st and 3rd quartiles of the distributions are very close to each other."
   ]
  },
  {
   "cell_type": "markdown",
   "metadata": {},
   "source": [
    "#### Separating out test data from our main data before feature selection ####"
   ]
  },
  {
   "cell_type": "code",
   "execution_count": 12,
   "metadata": {},
   "outputs": [],
   "source": [
    "X = pd.get_dummies(df_intern).drop(['y'], axis=1)\n",
    "y = df_intern['y']\n",
    "\n",
    "X_train, X_test, y_train, y_test = train_test_split(X, y, test_size=0.2, random_state=0)"
   ]
  },
  {
   "cell_type": "markdown",
   "metadata": {},
   "source": [
    "## Feature Selection - Choosing the best predictors ##"
   ]
  },
  {
   "cell_type": "markdown",
   "metadata": {},
   "source": [
    "Why do we even need feature selection?\n",
    "1. It makes the machine learning model faster.\n",
    "2. It improves the accuracy of a model.\n",
    "3. It reduces the complexity of a model and makes it more interpretable.\n",
    "4. It reduces Overfitting in our model.\n",
    "\n",
    "There are three broad types of feature selection methods that I know:\n",
    "1. Filter based methods\n",
    "2. Wrapper methods\n",
    "3. Embedded methods\n",
    "\n",
    "The feature selection methods we will use here all come under what is called a 'Wrapper Method'. Wrapper feature selection methods create many models with different subsets of input features and select those features that result in the best performing model according to a performance metric. This is an iterative and computationally expensive process but since we have very less number of features, we can use this method.\n",
    "\n",
    "The wrapper methods we will use here are Backward selection and RFE."
   ]
  },
  {
   "cell_type": "markdown",
   "metadata": {},
   "source": [
    "In backward feature selection method, we feed all the possible features to the model, check the performance of the model and then iteratively remove the worst performing features one by one till the overall performance of the model comes in acceptable range. The performance metric used here to evaluate feature performance is pvalue."
   ]
  },
  {
   "cell_type": "code",
   "execution_count": 13,
   "metadata": {},
   "outputs": [
    {
     "name": "stdout",
     "output_type": "stream",
     "text": [
      "['b', 'e', 'f', 'g', 'c_blue', 'c_green', 'c_red', 'c_yellow', 'h_white']\n"
     ]
    },
    {
     "name": "stderr",
     "output_type": "stream",
     "text": [
      "C:\\Users\\iGuest\\Anaconda3\\lib\\site-packages\\numpy\\core\\fromnumeric.py:2389: FutureWarning: Method .ptp is deprecated and will be removed in a future version. Use numpy.ptp instead.\n",
      "  return ptp(axis=axis, out=out, **kwargs)\n"
     ]
    }
   ],
   "source": [
    "cols = list(X_train.columns)\n",
    "pmax = 1\n",
    "while (len(cols)>0):\n",
    "    p= []\n",
    "    X_1 = X_train[cols]\n",
    "    X_1 = sm.add_constant(X_1)\n",
    "    model = sm.OLS(y_train,X_1).fit()\n",
    "    p = pd.Series(model.pvalues.values[1:],index = cols)      \n",
    "    pmax = max(p)\n",
    "    feature_with_p_max = p.idxmax()\n",
    "    if(pmax>0.05):\n",
    "        cols.remove(feature_with_p_max)\n",
    "    else:\n",
    "        break\n",
    "\n",
    "selected_features_BE = cols\n",
    "print(selected_features_BE)"
   ]
  },
  {
   "cell_type": "markdown",
   "metadata": {},
   "source": [
    "The Recursive Feature Elimination (RFE) method works by recursively removing attributes and building a model on those attributes that remain. It uses accuracy metric to rank the feature according to their importance.\n",
    "\n",
    "Instead of taking the number of features randomly, we can find the optimum number of features by using loop starting with 1 feature and going up to 12 features and then choose the one for which the accuracy is highest."
   ]
  },
  {
   "cell_type": "code",
   "execution_count": 16,
   "metadata": {},
   "outputs": [
    {
     "name": "stdout",
     "output_type": "stream",
     "text": [
      "Optimum number of features: 9\n",
      "Score with 9 features: 0.972735\n"
     ]
    }
   ],
   "source": [
    "#no of features\n",
    "nof_list=np.arange(1,12)            \n",
    "high_score=0\n",
    "#Variable to store the optimum features\n",
    "nof=0           \n",
    "score_list =[]\n",
    "for n in range(len(nof_list)):\n",
    "    X_train, X_test, y_train, y_test = train_test_split(X,y, test_size = 0.3, random_state = 0)\n",
    "    model = LinearRegression()\n",
    "    rfe = RFE(model,nof_list[n])\n",
    "    X_train_rfe = rfe.fit_transform(X_train,y_train)\n",
    "    X_test_rfe = rfe.transform(X_test)\n",
    "    model.fit(X_train_rfe,y_train)\n",
    "    score = model.score(X_test_rfe,y_test)\n",
    "    score_list.append(score)\n",
    "    if(score>high_score):\n",
    "        high_score = score\n",
    "        nof = nof_list[n]\n",
    "\n",
    "print(\"Optimum number of features: %d\" %nof)\n",
    "print(\"Score with %d features: %f\" % (nof, high_score))"
   ]
  },
  {
   "cell_type": "markdown",
   "metadata": {},
   "source": [
    "Now that we have an optimum number of features, we can implement RFE to obtain these 9 best features."
   ]
  },
  {
   "cell_type": "code",
   "execution_count": 17,
   "metadata": {},
   "outputs": [
    {
     "name": "stdout",
     "output_type": "stream",
     "text": [
      "Index(['b', 'e', 'f', 'g', 'c_blue', 'c_green', 'c_yellow', 'h_black',\n",
      "       'h_white'],\n",
      "      dtype='object')\n"
     ]
    }
   ],
   "source": [
    "cols = list(X.columns)\n",
    "model = LinearRegression()\n",
    "\n",
    "#Initializing RFE model\n",
    "rfe = RFE(model, 9)             \n",
    "\n",
    "#Transforming data using RFE\n",
    "X_rfe = rfe.fit_transform(X,y)  \n",
    "\n",
    "#Fitting the data to model\n",
    "model.fit(X_rfe,y)              \n",
    "temp = pd.Series(rfe.support_,index = cols)\n",
    "selected_features_rfe = temp[temp==True].index\n",
    "\n",
    "print(selected_features_rfe)"
   ]
  },
  {
   "cell_type": "markdown",
   "metadata": {},
   "source": [
    "## Building Regression Models ##"
   ]
  },
  {
   "cell_type": "markdown",
   "metadata": {},
   "source": [
    "By now we are already clear that since we have a label in our data, it is a supervised learning problem. Also, since we are predicting a continuous variable, it is a regression problem.\n",
    "\n",
    "So with this information, we now have to decide which algorithm to finally go with. Now idedally, there are several things I like to check before selecting any model:\n",
    "1. Checking if the model aligns to the business goals\n",
    "2. The amount of pre-processing before building the model\n",
    "3. How interpretable the model is\n",
    "4. How long does it take to build a model, and how long does the model take to make predictions\n",
    "5. Checking the accuracy of the model\n",
    "6. The scalability of the model\n",
    "\n",
    "Now for our current problem, we do not have any business goals defined, so we shall skip the first check. Next, we see that the data given to us was already clean, so the data cleaning section of pre-processing isn't needed either. The only pre-processing that we did was feature reduction. This ensures that the pre-processing for our current data will not take a lot of time. Without any data description, the interpretability of the model also becomes difficult to test. Easiest and most basic way to explain our model will be that we are trying to fit a parametric function on our data to predict a continous response variable.\n",
    "\n",
    "Regarding the speed of the model, we first need to check the model complexity. The model will use only 9 features, and the amount of training data will also not be over 500 (even if we decide to use all our available data for training). Additionally, we also haven't used any complex feature engineering methods like principal component analysis on our data for dimensionality reduction. Accuracy is something we will be testing in the code below. The scalability of the model is something that is out of scope for our current problem.\n",
    "\n",
    "For the sake of simplicity, I will only compare the following regression based algorithms:\n",
    "1. Multiple Linear Regression\n",
    "2. Random Forest\n",
    "3. K-Nearest Neighbours\n",
    "\n",
    "Since there is not much multicolinearity or high dimensionality in our data, we do not unnecessarily use any regression regularization methods like Ridge, Lasso or ElasticNet.\n",
    "Similarly, since we have only one response variable, multivariate regression is also out of picture."
   ]
  },
  {
   "cell_type": "markdown",
   "metadata": {},
   "source": [
    "#### Multiple Linear Regression ####"
   ]
  },
  {
   "cell_type": "code",
   "execution_count": 18,
   "metadata": {},
   "outputs": [
    {
     "data": {
      "text/html": [
       "<table class=\"simpletable\">\n",
       "<caption>OLS Regression Results</caption>\n",
       "<tr>\n",
       "  <th>Dep. Variable:</th>            <td>y</td>        <th>  R-squared:         </th> <td>   0.973</td> \n",
       "</tr>\n",
       "<tr>\n",
       "  <th>Model:</th>                   <td>OLS</td>       <th>  Adj. R-squared:    </th> <td>   0.972</td> \n",
       "</tr>\n",
       "<tr>\n",
       "  <th>Method:</th>             <td>Least Squares</td>  <th>  F-statistic:       </th> <td>   1511.</td> \n",
       "</tr>\n",
       "<tr>\n",
       "  <th>Date:</th>             <td>Sun, 02 Feb 2020</td> <th>  Prob (F-statistic):</th> <td>4.44e-261</td>\n",
       "</tr>\n",
       "<tr>\n",
       "  <th>Time:</th>                 <td>21:55:59</td>     <th>  Log-Likelihood:    </th> <td>  319.56</td> \n",
       "</tr>\n",
       "<tr>\n",
       "  <th>No. Observations:</th>      <td>   350</td>      <th>  AIC:               </th> <td>  -621.1</td> \n",
       "</tr>\n",
       "<tr>\n",
       "  <th>Df Residuals:</th>          <td>   341</td>      <th>  BIC:               </th> <td>  -586.4</td> \n",
       "</tr>\n",
       "<tr>\n",
       "  <th>Df Model:</th>              <td>     8</td>      <th>                     </th>     <td> </td>    \n",
       "</tr>\n",
       "<tr>\n",
       "  <th>Covariance Type:</th>      <td>nonrobust</td>    <th>                     </th>     <td> </td>    \n",
       "</tr>\n",
       "</table>\n",
       "<table class=\"simpletable\">\n",
       "<tr>\n",
       "      <td></td>        <th>coef</th>     <th>std err</th>      <th>t</th>      <th>P>|t|</th>  <th>[0.025</th>    <th>0.975]</th>  \n",
       "</tr>\n",
       "<tr>\n",
       "  <th>b</th>        <td>    0.3890</td> <td>    0.018</td> <td>   21.803</td> <td> 0.000</td> <td>    0.354</td> <td>    0.424</td>\n",
       "</tr>\n",
       "<tr>\n",
       "  <th>e</th>        <td>    0.9603</td> <td>    0.020</td> <td>   48.701</td> <td> 0.000</td> <td>    0.922</td> <td>    0.999</td>\n",
       "</tr>\n",
       "<tr>\n",
       "  <th>f</th>        <td>    0.6770</td> <td>    0.019</td> <td>   36.451</td> <td> 0.000</td> <td>    0.640</td> <td>    0.714</td>\n",
       "</tr>\n",
       "<tr>\n",
       "  <th>g</th>        <td>    0.6056</td> <td>    0.018</td> <td>   32.964</td> <td> 0.000</td> <td>    0.569</td> <td>    0.642</td>\n",
       "</tr>\n",
       "<tr>\n",
       "  <th>c_blue</th>   <td>   -0.5786</td> <td>    0.015</td> <td>  -39.057</td> <td> 0.000</td> <td>   -0.608</td> <td>   -0.549</td>\n",
       "</tr>\n",
       "<tr>\n",
       "  <th>c_green</th>  <td>    0.3157</td> <td>    0.015</td> <td>   20.971</td> <td> 0.000</td> <td>    0.286</td> <td>    0.345</td>\n",
       "</tr>\n",
       "<tr>\n",
       "  <th>c_yellow</th> <td>    0.3092</td> <td>    0.015</td> <td>   20.668</td> <td> 0.000</td> <td>    0.280</td> <td>    0.339</td>\n",
       "</tr>\n",
       "<tr>\n",
       "  <th>h_black</th>  <td>    0.8225</td> <td>    0.023</td> <td>   35.584</td> <td> 0.000</td> <td>    0.777</td> <td>    0.868</td>\n",
       "</tr>\n",
       "<tr>\n",
       "  <th>h_white</th>  <td>    1.4569</td> <td>    0.021</td> <td>   68.150</td> <td> 0.000</td> <td>    1.415</td> <td>    1.499</td>\n",
       "</tr>\n",
       "</table>\n",
       "<table class=\"simpletable\">\n",
       "<tr>\n",
       "  <th>Omnibus:</th>       <td> 3.707</td> <th>  Durbin-Watson:     </th> <td>   1.995</td>\n",
       "</tr>\n",
       "<tr>\n",
       "  <th>Prob(Omnibus):</th> <td> 0.157</td> <th>  Jarque-Bera (JB):  </th> <td>   3.440</td>\n",
       "</tr>\n",
       "<tr>\n",
       "  <th>Skew:</th>          <td>-0.203</td> <th>  Prob(JB):          </th> <td>   0.179</td>\n",
       "</tr>\n",
       "<tr>\n",
       "  <th>Kurtosis:</th>      <td> 3.267</td> <th>  Cond. No.          </th> <td>    9.34</td>\n",
       "</tr>\n",
       "</table><br/><br/>Warnings:<br/>[1] Standard Errors assume that the covariance matrix of the errors is correctly specified."
      ],
      "text/plain": [
       "<class 'statsmodels.iolib.summary.Summary'>\n",
       "\"\"\"\n",
       "                            OLS Regression Results                            \n",
       "==============================================================================\n",
       "Dep. Variable:                      y   R-squared:                       0.973\n",
       "Model:                            OLS   Adj. R-squared:                  0.972\n",
       "Method:                 Least Squares   F-statistic:                     1511.\n",
       "Date:                Sun, 02 Feb 2020   Prob (F-statistic):          4.44e-261\n",
       "Time:                        21:55:59   Log-Likelihood:                 319.56\n",
       "No. Observations:                 350   AIC:                            -621.1\n",
       "Df Residuals:                     341   BIC:                            -586.4\n",
       "Df Model:                           8                                         \n",
       "Covariance Type:            nonrobust                                         \n",
       "==============================================================================\n",
       "                 coef    std err          t      P>|t|      [0.025      0.975]\n",
       "------------------------------------------------------------------------------\n",
       "b              0.3890      0.018     21.803      0.000       0.354       0.424\n",
       "e              0.9603      0.020     48.701      0.000       0.922       0.999\n",
       "f              0.6770      0.019     36.451      0.000       0.640       0.714\n",
       "g              0.6056      0.018     32.964      0.000       0.569       0.642\n",
       "c_blue        -0.5786      0.015    -39.057      0.000      -0.608      -0.549\n",
       "c_green        0.3157      0.015     20.971      0.000       0.286       0.345\n",
       "c_yellow       0.3092      0.015     20.668      0.000       0.280       0.339\n",
       "h_black        0.8225      0.023     35.584      0.000       0.777       0.868\n",
       "h_white        1.4569      0.021     68.150      0.000       1.415       1.499\n",
       "==============================================================================\n",
       "Omnibus:                        3.707   Durbin-Watson:                   1.995\n",
       "Prob(Omnibus):                  0.157   Jarque-Bera (JB):                3.440\n",
       "Skew:                          -0.203   Prob(JB):                        0.179\n",
       "Kurtosis:                       3.267   Cond. No.                         9.34\n",
       "==============================================================================\n",
       "\n",
       "Warnings:\n",
       "[1] Standard Errors assume that the covariance matrix of the errors is correctly specified.\n",
       "\"\"\""
      ]
     },
     "execution_count": 18,
     "metadata": {},
     "output_type": "execute_result"
    }
   ],
   "source": [
    "lm_rfe = sm.OLS(endog = y_train, exog = X_train[selected_features_rfe]).fit() \n",
    "lm_rfe.summary()"
   ]
  },
  {
   "cell_type": "code",
   "execution_count": 19,
   "metadata": {},
   "outputs": [
    {
     "data": {
      "text/plain": [
       "0.09710395065164512"
      ]
     },
     "execution_count": 19,
     "metadata": {},
     "output_type": "execute_result"
    }
   ],
   "source": [
    "#Training Error\n",
    "\n",
    "y_train_pred_rfe = lm_rfe.predict(X_train[selected_features_rfe])\n",
    "\n",
    "np.sqrt(metrics.mean_squared_error(y_train, y_train_pred_rfe))"
   ]
  },
  {
   "cell_type": "code",
   "execution_count": 20,
   "metadata": {},
   "outputs": [
    {
     "data": {
      "text/plain": [
       "0.09791147832445794"
      ]
     },
     "execution_count": 20,
     "metadata": {},
     "output_type": "execute_result"
    }
   ],
   "source": [
    "y_pred = lm_rfe.predict(X_test[selected_features_rfe])\n",
    "\n",
    "#Calculate RMSE\n",
    "np.sqrt(metrics.mean_squared_error(y_test, y_pred))"
   ]
  },
  {
   "cell_type": "markdown",
   "metadata": {},
   "source": [
    "The Rsquared value in itself is not of any use. We can use it only if we are comparing two models. Let us compare this model which is built using features from RFE to a new model built using features from backward selection."
   ]
  },
  {
   "cell_type": "code",
   "execution_count": 21,
   "metadata": {},
   "outputs": [
    {
     "data": {
      "text/html": [
       "<table class=\"simpletable\">\n",
       "<caption>OLS Regression Results</caption>\n",
       "<tr>\n",
       "  <th>Dep. Variable:</th>            <td>y</td>        <th>  R-squared:         </th> <td>   0.973</td> \n",
       "</tr>\n",
       "<tr>\n",
       "  <th>Model:</th>                   <td>OLS</td>       <th>  Adj. R-squared:    </th> <td>   0.972</td> \n",
       "</tr>\n",
       "<tr>\n",
       "  <th>Method:</th>             <td>Least Squares</td>  <th>  F-statistic:       </th> <td>   1511.</td> \n",
       "</tr>\n",
       "<tr>\n",
       "  <th>Date:</th>             <td>Sun, 02 Feb 2020</td> <th>  Prob (F-statistic):</th> <td>4.44e-261</td>\n",
       "</tr>\n",
       "<tr>\n",
       "  <th>Time:</th>                 <td>21:56:02</td>     <th>  Log-Likelihood:    </th> <td>  319.56</td> \n",
       "</tr>\n",
       "<tr>\n",
       "  <th>No. Observations:</th>      <td>   350</td>      <th>  AIC:               </th> <td>  -621.1</td> \n",
       "</tr>\n",
       "<tr>\n",
       "  <th>Df Residuals:</th>          <td>   341</td>      <th>  BIC:               </th> <td>  -586.4</td> \n",
       "</tr>\n",
       "<tr>\n",
       "  <th>Df Model:</th>              <td>     8</td>      <th>                     </th>     <td> </td>    \n",
       "</tr>\n",
       "<tr>\n",
       "  <th>Covariance Type:</th>      <td>nonrobust</td>    <th>                     </th>     <td> </td>    \n",
       "</tr>\n",
       "</table>\n",
       "<table class=\"simpletable\">\n",
       "<tr>\n",
       "      <td></td>        <th>coef</th>     <th>std err</th>      <th>t</th>      <th>P>|t|</th>  <th>[0.025</th>    <th>0.975]</th>  \n",
       "</tr>\n",
       "<tr>\n",
       "  <th>b</th>        <td>    0.3890</td> <td>    0.018</td> <td>   21.803</td> <td> 0.000</td> <td>    0.354</td> <td>    0.424</td>\n",
       "</tr>\n",
       "<tr>\n",
       "  <th>e</th>        <td>    0.9603</td> <td>    0.020</td> <td>   48.701</td> <td> 0.000</td> <td>    0.922</td> <td>    0.999</td>\n",
       "</tr>\n",
       "<tr>\n",
       "  <th>f</th>        <td>    0.6770</td> <td>    0.019</td> <td>   36.451</td> <td> 0.000</td> <td>    0.640</td> <td>    0.714</td>\n",
       "</tr>\n",
       "<tr>\n",
       "  <th>g</th>        <td>    0.6056</td> <td>    0.018</td> <td>   32.964</td> <td> 0.000</td> <td>    0.569</td> <td>    0.642</td>\n",
       "</tr>\n",
       "<tr>\n",
       "  <th>c_blue</th>   <td>    0.2439</td> <td>    0.024</td> <td>   10.056</td> <td> 0.000</td> <td>    0.196</td> <td>    0.292</td>\n",
       "</tr>\n",
       "<tr>\n",
       "  <th>c_green</th>  <td>    1.1383</td> <td>    0.024</td> <td>   47.663</td> <td> 0.000</td> <td>    1.091</td> <td>    1.185</td>\n",
       "</tr>\n",
       "<tr>\n",
       "  <th>c_red</th>    <td>    0.8225</td> <td>    0.023</td> <td>   35.584</td> <td> 0.000</td> <td>    0.777</td> <td>    0.868</td>\n",
       "</tr>\n",
       "<tr>\n",
       "  <th>c_yellow</th> <td>    1.1318</td> <td>    0.023</td> <td>   48.201</td> <td> 0.000</td> <td>    1.086</td> <td>    1.178</td>\n",
       "</tr>\n",
       "<tr>\n",
       "  <th>h_white</th>  <td>    0.6344</td> <td>    0.013</td> <td>   48.426</td> <td> 0.000</td> <td>    0.609</td> <td>    0.660</td>\n",
       "</tr>\n",
       "</table>\n",
       "<table class=\"simpletable\">\n",
       "<tr>\n",
       "  <th>Omnibus:</th>       <td> 3.707</td> <th>  Durbin-Watson:     </th> <td>   1.995</td>\n",
       "</tr>\n",
       "<tr>\n",
       "  <th>Prob(Omnibus):</th> <td> 0.157</td> <th>  Jarque-Bera (JB):  </th> <td>   3.440</td>\n",
       "</tr>\n",
       "<tr>\n",
       "  <th>Skew:</th>          <td>-0.203</td> <th>  Prob(JB):          </th> <td>   0.179</td>\n",
       "</tr>\n",
       "<tr>\n",
       "  <th>Kurtosis:</th>      <td> 3.267</td> <th>  Cond. No.          </th> <td>    12.6</td>\n",
       "</tr>\n",
       "</table><br/><br/>Warnings:<br/>[1] Standard Errors assume that the covariance matrix of the errors is correctly specified."
      ],
      "text/plain": [
       "<class 'statsmodels.iolib.summary.Summary'>\n",
       "\"\"\"\n",
       "                            OLS Regression Results                            \n",
       "==============================================================================\n",
       "Dep. Variable:                      y   R-squared:                       0.973\n",
       "Model:                            OLS   Adj. R-squared:                  0.972\n",
       "Method:                 Least Squares   F-statistic:                     1511.\n",
       "Date:                Sun, 02 Feb 2020   Prob (F-statistic):          4.44e-261\n",
       "Time:                        21:56:02   Log-Likelihood:                 319.56\n",
       "No. Observations:                 350   AIC:                            -621.1\n",
       "Df Residuals:                     341   BIC:                            -586.4\n",
       "Df Model:                           8                                         \n",
       "Covariance Type:            nonrobust                                         \n",
       "==============================================================================\n",
       "                 coef    std err          t      P>|t|      [0.025      0.975]\n",
       "------------------------------------------------------------------------------\n",
       "b              0.3890      0.018     21.803      0.000       0.354       0.424\n",
       "e              0.9603      0.020     48.701      0.000       0.922       0.999\n",
       "f              0.6770      0.019     36.451      0.000       0.640       0.714\n",
       "g              0.6056      0.018     32.964      0.000       0.569       0.642\n",
       "c_blue         0.2439      0.024     10.056      0.000       0.196       0.292\n",
       "c_green        1.1383      0.024     47.663      0.000       1.091       1.185\n",
       "c_red          0.8225      0.023     35.584      0.000       0.777       0.868\n",
       "c_yellow       1.1318      0.023     48.201      0.000       1.086       1.178\n",
       "h_white        0.6344      0.013     48.426      0.000       0.609       0.660\n",
       "==============================================================================\n",
       "Omnibus:                        3.707   Durbin-Watson:                   1.995\n",
       "Prob(Omnibus):                  0.157   Jarque-Bera (JB):                3.440\n",
       "Skew:                          -0.203   Prob(JB):                        0.179\n",
       "Kurtosis:                       3.267   Cond. No.                         12.6\n",
       "==============================================================================\n",
       "\n",
       "Warnings:\n",
       "[1] Standard Errors assume that the covariance matrix of the errors is correctly specified.\n",
       "\"\"\""
      ]
     },
     "execution_count": 21,
     "metadata": {},
     "output_type": "execute_result"
    }
   ],
   "source": [
    "lm_be = sm.OLS(endog = y_train, exog = X_train[selected_features_BE]).fit() \n",
    "lm_be.summary()"
   ]
  },
  {
   "cell_type": "code",
   "execution_count": 22,
   "metadata": {},
   "outputs": [
    {
     "data": {
      "text/plain": [
       "0.09710395065164511"
      ]
     },
     "execution_count": 22,
     "metadata": {},
     "output_type": "execute_result"
    }
   ],
   "source": [
    "#Training Error\n",
    "\n",
    "y_train_pred = lm_be.predict(X_train[selected_features_BE])\n",
    "\n",
    "np.sqrt(metrics.mean_squared_error(y_train, y_train_pred))"
   ]
  },
  {
   "cell_type": "code",
   "execution_count": 23,
   "metadata": {},
   "outputs": [
    {
     "data": {
      "text/plain": [
       "0.09791147832445787"
      ]
     },
     "execution_count": 23,
     "metadata": {},
     "output_type": "execute_result"
    }
   ],
   "source": [
    "#Calculate predictions for this new model\n",
    "y_pred = lm_be.predict(X_test[selected_features_BE])\n",
    "\n",
    "np.sqrt(metrics.mean_squared_error(y_test, y_pred))"
   ]
  },
  {
   "cell_type": "markdown",
   "metadata": {},
   "source": [
    "When it comes to Rsquared, the RFE model is similar to the backward selection model.\n",
    "\n",
    "But hold on! We have used the Rsquared metric here. Rsquared is highly dependent on the number of features. In fact, if you add a 100 features with noise, there is a high chance that your model Rsquared will even reach 1.\n",
    "\n",
    "This is where another metric called the Adjusted Rsquared comes into picture. This metric adds a penalty to the model with every new added feature, and this helps us get the true Rsquared value for the model.\n",
    "\n",
    "For our current scenario, we can confirm that both our models are the same when it comes to either of the two metrics."
   ]
  },
  {
   "cell_type": "markdown",
   "metadata": {},
   "source": [
    "#### Random Forest for Regression ####"
   ]
  },
  {
   "cell_type": "code",
   "execution_count": 24,
   "metadata": {},
   "outputs": [
    {
     "name": "stdout",
     "output_type": "stream",
     "text": [
      "0.21178547570333064\n"
     ]
    }
   ],
   "source": [
    "# Fitting Random Forest Regression to the dataset \n",
    "# import the regressor \n",
    "from sklearn.ensemble import RandomForestRegressor \n",
    "  \n",
    "# create regressor object \n",
    "regressor = RandomForestRegressor(n_estimators = 100, random_state = 42) \n",
    "  \n",
    "# fit the regressor with x and y data \n",
    "regressor.fit(X_train, y_train)\n",
    "\n",
    "y_pred = regressor.predict(X_test)\n",
    "\n",
    "print(np.sqrt(metrics.mean_squared_error(y_test, y_pred)))"
   ]
  },
  {
   "cell_type": "code",
   "execution_count": 25,
   "metadata": {},
   "outputs": [
    {
     "name": "stdout",
     "output_type": "stream",
     "text": [
      "[{'c_blue': 0.26}, {'e': 0.23}, {'f': 0.11}, {'h_black': 0.11}, {'h_white': 0.11}, {'g': 0.1}, {'b': 0.04}, {'d': 0.02}, {'a': 0.01}, {'c_red': 0.01}, {'c_green': 0.0}, {'c_yellow': 0.0}]\n"
     ]
    }
   ],
   "source": [
    "#Variable Importance\n",
    "\n",
    "importances = list(regressor.feature_importances_)\n",
    "\n",
    "feature_importances = [(feature, round(importance, 2)) for feature, importance in zip(X_test, importances)]\n",
    "feature_importances = sorted(feature_importances, key = lambda x: x[1], reverse = True)\n",
    "\n",
    "print([{a:b} for a,b in feature_importances])"
   ]
  },
  {
   "cell_type": "code",
   "execution_count": 26,
   "metadata": {},
   "outputs": [
    {
     "name": "stdout",
     "output_type": "stream",
     "text": [
      "0.5365591106042541\n"
     ]
    }
   ],
   "source": [
    "# New random forest with only the two most important variables\n",
    "rf_most_important = RandomForestRegressor(n_estimators= 1000, random_state=42)\n",
    "\n",
    "train_important = X_train[['c_blue','e']]\n",
    "test_important = X_test[['c_blue','e']]\n",
    "\n",
    "rf_most_important.fit(train_important, y_train)\n",
    "predictions = rf_most_important.predict(test_important)\n",
    "\n",
    "print(np.sqrt(metrics.mean_squared_error(y_test, predictions)))"
   ]
  },
  {
   "cell_type": "markdown",
   "metadata": {},
   "source": [
    "#### K-Nearest Neighbours ###"
   ]
  },
  {
   "cell_type": "code",
   "execution_count": 27,
   "metadata": {},
   "outputs": [
    {
     "data": {
      "text/plain": [
       "{'n_neighbors': 3}"
      ]
     },
     "execution_count": 27,
     "metadata": {},
     "output_type": "execute_result"
    }
   ],
   "source": [
    "#Scaling the features\n",
    "from sklearn.preprocessing import MinMaxScaler\n",
    "\n",
    "scaler = MinMaxScaler(feature_range=(0, 1))\n",
    "\n",
    "X_train_scaled = scaler.fit_transform(X_train)\n",
    "\n",
    "X_test_scaled = scaler.fit_transform(X_test)\n",
    "\n",
    "#Building our kNN model\n",
    "from sklearn import neighbors\n",
    "from sklearn.model_selection import GridSearchCV\n",
    "\n",
    "params = {'n_neighbors':[i for i in range(2,20)]}\n",
    "\n",
    "knn = neighbors.KNeighborsRegressor()\n",
    "\n",
    "model = GridSearchCV(knn, params, cv=5)\n",
    "model.fit(X_train_scaled, y_train)\n",
    "model.best_params_"
   ]
  },
  {
   "cell_type": "markdown",
   "metadata": {},
   "source": [
    "Thus, we see that our best model is built for k=3"
   ]
  },
  {
   "cell_type": "code",
   "execution_count": 28,
   "metadata": {},
   "outputs": [
    {
     "name": "stdout",
     "output_type": "stream",
     "text": [
      "0.23654065497264903\n"
     ]
    }
   ],
   "source": [
    "pred_knn = model.predict(X_test_scaled)\n",
    "\n",
    "print(np.sqrt(metrics.mean_squared_error(y_test, pred_knn)))"
   ]
  },
  {
   "cell_type": "markdown",
   "metadata": {},
   "source": [
    "## Conclusion ##"
   ]
  },
  {
   "cell_type": "markdown",
   "metadata": {},
   "source": [
    "Looking at only the RMSE for the three types of models, it is clear that the multiple linear regression model with the features selected via RFE gives us the best chance of getting good predictions. Thus, I will be using this model to predict values for the intern_test data provided to me."
   ]
  },
  {
   "cell_type": "code",
   "execution_count": 29,
   "metadata": {},
   "outputs": [
    {
     "data": {
      "text/html": [
       "<div>\n",
       "<style scoped>\n",
       "    .dataframe tbody tr th:only-of-type {\n",
       "        vertical-align: middle;\n",
       "    }\n",
       "\n",
       "    .dataframe tbody tr th {\n",
       "        vertical-align: top;\n",
       "    }\n",
       "\n",
       "    .dataframe thead th {\n",
       "        text-align: right;\n",
       "    }\n",
       "</style>\n",
       "<table border=\"1\" class=\"dataframe\">\n",
       "  <thead>\n",
       "    <tr style=\"text-align: right;\">\n",
       "      <th></th>\n",
       "      <th>Unnamed: 0</th>\n",
       "      <th>a</th>\n",
       "      <th>b</th>\n",
       "      <th>c</th>\n",
       "      <th>d</th>\n",
       "      <th>e</th>\n",
       "      <th>f</th>\n",
       "      <th>g</th>\n",
       "      <th>h</th>\n",
       "    </tr>\n",
       "  </thead>\n",
       "  <tbody>\n",
       "    <tr>\n",
       "      <th>0</th>\n",
       "      <td>1</td>\n",
       "      <td>0.213254</td>\n",
       "      <td>0.707218</td>\n",
       "      <td>green</td>\n",
       "      <td>0.206151</td>\n",
       "      <td>0.010148</td>\n",
       "      <td>0.190193</td>\n",
       "      <td>0.497651</td>\n",
       "      <td>black</td>\n",
       "    </tr>\n",
       "    <tr>\n",
       "      <th>1</th>\n",
       "      <td>2</td>\n",
       "      <td>0.867987</td>\n",
       "      <td>0.494110</td>\n",
       "      <td>green</td>\n",
       "      <td>0.510344</td>\n",
       "      <td>0.922549</td>\n",
       "      <td>0.649631</td>\n",
       "      <td>0.952224</td>\n",
       "      <td>black</td>\n",
       "    </tr>\n",
       "    <tr>\n",
       "      <th>2</th>\n",
       "      <td>3</td>\n",
       "      <td>0.419168</td>\n",
       "      <td>0.579660</td>\n",
       "      <td>yellow</td>\n",
       "      <td>0.832660</td>\n",
       "      <td>0.351641</td>\n",
       "      <td>0.105251</td>\n",
       "      <td>0.277489</td>\n",
       "      <td>white</td>\n",
       "    </tr>\n",
       "    <tr>\n",
       "      <th>3</th>\n",
       "      <td>4</td>\n",
       "      <td>0.706512</td>\n",
       "      <td>0.948891</td>\n",
       "      <td>blue</td>\n",
       "      <td>0.546916</td>\n",
       "      <td>0.771624</td>\n",
       "      <td>0.683572</td>\n",
       "      <td>0.311848</td>\n",
       "      <td>white</td>\n",
       "    </tr>\n",
       "    <tr>\n",
       "      <th>4</th>\n",
       "      <td>5</td>\n",
       "      <td>0.344634</td>\n",
       "      <td>0.942960</td>\n",
       "      <td>yellow</td>\n",
       "      <td>0.570995</td>\n",
       "      <td>0.315698</td>\n",
       "      <td>0.651284</td>\n",
       "      <td>0.677366</td>\n",
       "      <td>white</td>\n",
       "    </tr>\n",
       "  </tbody>\n",
       "</table>\n",
       "</div>"
      ],
      "text/plain": [
       "   Unnamed: 0         a         b       c         d         e         f  \\\n",
       "0           1  0.213254  0.707218   green  0.206151  0.010148  0.190193   \n",
       "1           2  0.867987  0.494110   green  0.510344  0.922549  0.649631   \n",
       "2           3  0.419168  0.579660  yellow  0.832660  0.351641  0.105251   \n",
       "3           4  0.706512  0.948891    blue  0.546916  0.771624  0.683572   \n",
       "4           5  0.344634  0.942960  yellow  0.570995  0.315698  0.651284   \n",
       "\n",
       "          g      h  \n",
       "0  0.497651  black  \n",
       "1  0.952224  black  \n",
       "2  0.277489  white  \n",
       "3  0.311848  white  \n",
       "4  0.677366  white  "
      ]
     },
     "execution_count": 29,
     "metadata": {},
     "output_type": "execute_result"
    }
   ],
   "source": [
    "df_intern_test = pd.read_csv('intern_test.csv')\n",
    "\n",
    "df_intern_test.head()"
   ]
  },
  {
   "cell_type": "code",
   "execution_count": 30,
   "metadata": {},
   "outputs": [],
   "source": [
    "X_test_final = pd.get_dummies(df_intern_test)\n",
    "\n",
    "#Calculate predictions for this new model\n",
    "y_pred_test_rfe = lm_rfe.predict(X_test_final[selected_features_rfe])"
   ]
  },
  {
   "cell_type": "code",
   "execution_count": 31,
   "metadata": {
    "scrolled": true
   },
   "outputs": [
    {
     "data": {
      "text/html": [
       "<div>\n",
       "<style scoped>\n",
       "    .dataframe tbody tr th:only-of-type {\n",
       "        vertical-align: middle;\n",
       "    }\n",
       "\n",
       "    .dataframe tbody tr th {\n",
       "        vertical-align: top;\n",
       "    }\n",
       "\n",
       "    .dataframe thead th {\n",
       "        text-align: right;\n",
       "    }\n",
       "</style>\n",
       "<table border=\"1\" class=\"dataframe\">\n",
       "  <thead>\n",
       "    <tr style=\"text-align: right;\">\n",
       "      <th></th>\n",
       "      <th>i</th>\n",
       "      <th>y</th>\n",
       "    </tr>\n",
       "  </thead>\n",
       "  <tbody>\n",
       "    <tr>\n",
       "      <th>0</th>\n",
       "      <td>0</td>\n",
       "      <td>1.853246</td>\n",
       "    </tr>\n",
       "    <tr>\n",
       "      <th>1</th>\n",
       "      <td>1</td>\n",
       "      <td>3.232880</td>\n",
       "    </tr>\n",
       "    <tr>\n",
       "      <th>2</th>\n",
       "      <td>2</td>\n",
       "      <td>2.568651</td>\n",
       "    </tr>\n",
       "    <tr>\n",
       "      <th>3</th>\n",
       "      <td>3</td>\n",
       "      <td>2.640109</td>\n",
       "    </tr>\n",
       "    <tr>\n",
       "      <th>4</th>\n",
       "      <td>4</td>\n",
       "      <td>3.287286</td>\n",
       "    </tr>\n",
       "  </tbody>\n",
       "</table>\n",
       "</div>"
      ],
      "text/plain": [
       "   i         y\n",
       "0  0  1.853246\n",
       "1  1  3.232880\n",
       "2  2  2.568651\n",
       "3  3  2.640109\n",
       "4  4  3.287286"
      ]
     },
     "execution_count": 31,
     "metadata": {},
     "output_type": "execute_result"
    }
   ],
   "source": [
    "results = pd.DataFrame({'i':[n for n in range(df_intern_test.shape[0])], 'y':y_pred_test_rfe.to_list()})\n",
    "\n",
    "results.head()"
   ]
  },
  {
   "cell_type": "code",
   "execution_count": 32,
   "metadata": {},
   "outputs": [],
   "source": [
    "results.to_csv('intern_predicted.csv', index=False)"
   ]
  },
  {
   "cell_type": "markdown",
   "metadata": {},
   "source": [
    "## References ##\n",
    "\n",
    "Throughout this analysis, I have used several sources for revising concepts. I have been bookmarking these sources over the last few years, and I take opportunities like these to revise them. I've added them below so that they get the credit they deserve:\n",
    "1. Feature Selection https://towardsdatascience.com/feature-selection-with-pandas-e3690ad8504b\n",
    "2. Assumptions of Linear Regression https://scholarworks.umass.edu/cgi/viewcontent.cgi?article=1111&context=pare"
   ]
  }
 ],
 "metadata": {
  "kernelspec": {
   "display_name": "Python 3",
   "language": "python",
   "name": "python3"
  },
  "language_info": {
   "codemirror_mode": {
    "name": "ipython",
    "version": 3
   },
   "file_extension": ".py",
   "mimetype": "text/x-python",
   "name": "python",
   "nbconvert_exporter": "python",
   "pygments_lexer": "ipython3",
   "version": "3.7.3"
  }
 },
 "nbformat": 4,
 "nbformat_minor": 2
}
